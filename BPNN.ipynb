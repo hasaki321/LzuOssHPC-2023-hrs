{
 "cells": [
  {
   "cell_type": "code",
   "execution_count": 1,
   "id": "fa911f89",
   "metadata": {},
   "outputs": [],
   "source": [
    "import numpy as np\n",
    "np.random.seed(1)"
   ]
  },
  {
   "cell_type": "code",
   "execution_count": 2,
   "id": "30856d39",
   "metadata": {},
   "outputs": [],
   "source": [
    "class Module:\n",
    "    def __init__(self,module_sequence):\n",
    "        self.module_sequence = module_sequence\n",
    "        self.retain_forward_graph = []\n",
    "    \n",
    "    def clear_grad(self):\n",
    "        self.retain_forward_graph = []\n",
    "    \n",
    "    def forward(self):\n",
    "        pass\n",
    "\n",
    "class Linear:\n",
    "    def __init__(self,input_dim,output_dim):\n",
    "        self.input_dim = input_dim\n",
    "        self.output_dim = output_dim\n",
    "        self.weight = np.random.randn(output_dim,input_dim)\n",
    "        self.bias = np.random.randn(output_dim)\n",
    "    \n",
    "    def forward(self,x):\n",
    "        weight_output = np.dot(self.weight,x)\n",
    "        output = weight_output+self.bias\n",
    "        return output\n",
    "    \n",
    "    def backward(self,retain_forward,learning_rate,loss,):\n",
    "        bias_delta = loss\n",
    "        weight_delta = np.dot(np.transpose(np.expand_dims(loss, 0)),np.expand_dims(retain_forward, 0))\n",
    "        self.weight += learning_rate*weight_delta\n",
    "        self.bias += learning_rate*bias_delta\n",
    "        new_loss = np.sum(np.transpose(self.weight)*loss,axis=0)\n",
    "        return new_loss\n",
    "    \n",
    "class Sigmoid:\n",
    "    def __init__(self):\n",
    "        pass\n",
    "    \n",
    "    def forward(self,x):\n",
    "        return 1 / (1 + np.exp(-x))\n",
    "    \n",
    "    def backward(self,retain_forward,*args):\n",
    "        return retain_forward*(1-retain_forward)\n",
    "    \n",
    "    \n",
    "class ReLU:\n",
    "    def __init__(self):\n",
    "        self.selected = None\n",
    "    \n",
    "    def forward(self,x):\n",
    "        self.selected = None\n",
    "        self.selected = np.where(x>0,True,False)\n",
    "        return np.where(x>0,x,0)\n",
    "    \n",
    "    def backward(self,retain_forward,*args):\n",
    "        return np.where(self.selected,retain_forward,0)"
   ]
  },
  {
   "cell_type": "code",
   "execution_count": 3,
   "id": "367161d5",
   "metadata": {},
   "outputs": [],
   "source": [
    "class BPNN(Module):\n",
    "    def __init__(self,module_sequence):\n",
    "        super().__init__(module_sequence)\n",
    "        \n",
    "    def forward(self,x):\n",
    "        for module in module_sequence:\n",
    "            self.retain_forward_graph.append(x)\n",
    "            x = module.forward(x)\n",
    "        return x\n",
    "    \n",
    "    def __call__(self,x):\n",
    "        return self.forward(x)"
   ]
  },
  {
   "cell_type": "code",
   "execution_count": 4,
   "id": "88039d66",
   "metadata": {},
   "outputs": [],
   "source": [
    "class SGD:\n",
    "    def __init__(self,model,learning_rate,loss_fn):\n",
    "        self.learning_rate = learning_rate\n",
    "        self.loss_fn = loss_fn\n",
    "        self.model = model\n",
    "        \n",
    "    def step(self):\n",
    "        loss = self.loss_fn.gradient\n",
    "        for idx,module in enumerate(reversed(self.model.module_sequence),start=1):\n",
    "            retain_output = self.model.retain_forward_graph[len(model.retain_forward_graph)-idx]\n",
    "            loss = module.backward(retain_output,self.learning_rate,loss) \n",
    "    \n",
    "    def clear_grad(self):\n",
    "        self.model.clear_grad()"
   ]
  },
  {
   "cell_type": "code",
   "execution_count": 5,
   "id": "3fb365a9",
   "metadata": {},
   "outputs": [],
   "source": [
    "class MSELoss:\n",
    "    def __init__(self,reduction=\"mean\"):\n",
    "        self.reduction = reduction\n",
    "        self.gradient = None\n",
    "    \n",
    "    def __call__(self,x,target):\n",
    "        self.gradient = -x + target\n",
    "        if self.reduction==\"mean\":\n",
    "            return 0.5 * np.mean((target - x) ** 2)\n",
    "        elif self.reduction==\"sum\":\n",
    "            return 0.5 * np.sum((target - x) ** 2)"
   ]
  },
  {
   "cell_type": "code",
   "execution_count": 6,
   "id": "1f96ec53",
   "metadata": {},
   "outputs": [],
   "source": [
    "x = np.random.randn(18*18)\n",
    "target = np.array([-5,12,4,5,7])\n",
    "lr = 1\n",
    "step = 10"
   ]
  },
  {
   "cell_type": "code",
   "execution_count": 7,
   "id": "4d3ed687",
   "metadata": {},
   "outputs": [],
   "source": [
    "module_sequence = [\n",
    "    Linear(18*18,8*8),\n",
    "    Sigmoid(),\n",
    "    Linear(8*8,5),\n",
    "]"
   ]
  },
  {
   "cell_type": "code",
   "execution_count": 8,
   "id": "ae7ca961",
   "metadata": {},
   "outputs": [],
   "source": [
    "model = BPNN(module_sequence)\n",
    "loss_fn = MSELoss()\n",
    "optim = SGD(model,lr,loss_fn)"
   ]
  },
  {
   "cell_type": "code",
   "execution_count": 9,
   "id": "ddff9a4f",
   "metadata": {},
   "outputs": [
    {
     "name": "stdout",
     "output_type": "stream",
     "text": [
      "[-3.92631494 -5.16808013  5.45055228  5.8279906   2.34512934]\n",
      "[-2.67208952 28.17708479 -4.11494535 -2.48718072  6.1132957 ]\n",
      "[-4.33112791  1.32384249  6.55699638  5.50181609  5.03508597]\n",
      "[-5. 12.  4.  5.  7.]\n",
      "[-5. 12.  4.  5.  7.]\n",
      "[-5. 12.  4.  5.  7.]\n",
      "[-5. 12.  4.  5.  7.]\n",
      "[-5. 12.  4.  5.  7.]\n",
      "[-5. 12.  4.  5.  7.]\n",
      "[-5. 12.  4.  5.  7.]\n"
     ]
    },
    {
     "name": "stderr",
     "output_type": "stream",
     "text": [
      "C:\\Users\\hasaki\\AppData\\Local\\Temp\\ipykernel_30632\\2633864351.py:37: RuntimeWarning: overflow encountered in exp\n",
      "  return 1 / (1 + np.exp(-x))\n",
      "C:\\Users\\hasaki\\AppData\\Local\\Temp\\ipykernel_30632\\2633864351.py:29: RuntimeWarning: overflow encountered in multiply\n",
      "  new_loss = np.sum(np.transpose(self.weight)*loss,axis=0)\n",
      "C:\\Users\\hasaki\\miniconda3\\envs\\DL\\lib\\site-packages\\numpy\\core\\fromnumeric.py:88: RuntimeWarning: invalid value encountered in reduce\n",
      "  return ufunc.reduce(obj, axis, dtype, out, **passkwargs)\n",
      "C:\\Users\\hasaki\\AppData\\Local\\Temp\\ipykernel_30632\\2633864351.py:40: RuntimeWarning: overflow encountered in multiply\n",
      "  return retain_forward*(1-retain_forward)\n"
     ]
    }
   ],
   "source": [
    "for i in range(step):\n",
    "    output = model(x)\n",
    "    print(output)\n",
    "    loss = loss_fn(output,target)\n",
    "    optim.step()\n",
    "    optim.clear_grad()"
   ]
  },
  {
   "cell_type": "code",
   "execution_count": 10,
   "id": "643575c3",
   "metadata": {},
   "outputs": [
    {
     "data": {
      "text/plain": [
       "array([[[[ 0.63640447,  1.01621261,  0.43774848],\n",
       "         [-0.47185267,  0.86775743,  0.66854956],\n",
       "         [-2.27093016, -0.42945002,  0.19162493]],\n",
       "\n",
       "        [[ 0.35389845,  1.18698968,  1.05602888],\n",
       "         [-0.42719643, -0.67942703,  0.83295452],\n",
       "         [-0.79880131,  0.24355193,  0.54970751]],\n",
       "\n",
       "        [[ 0.72544038,  0.37172429,  3.31349744],\n",
       "         [ 0.3471035 , -3.2019965 ,  1.17825467],\n",
       "         [ 0.04018322, -0.22598931,  0.90885128]]],\n",
       "\n",
       "\n",
       "       [[[ 0.44673656, -0.90781407,  1.79864027],\n",
       "         [ 0.73391993, -1.67988974,  0.20607687],\n",
       "         [ 0.2172338 , -0.73812071,  0.15450631]],\n",
       "\n",
       "        [[ 0.35786555,  2.62989873, -0.11409718],\n",
       "         [-1.34782512,  1.13531223,  1.10905464],\n",
       "         [-2.29362658,  0.66162576,  0.58159607]],\n",
       "\n",
       "        [[ 1.12531504, -0.2747098 ,  2.8821374 ],\n",
       "         [ 0.56238331, -1.6887801 ,  0.89843189],\n",
       "         [-1.53153329, -1.2713458 ,  0.43026626]]],\n",
       "\n",
       "\n",
       "       [[[-1.76937648, -0.23312321,  0.01346761],\n",
       "         [ 0.24521459, -4.07870712, -0.49741787],\n",
       "         [ 6.44310538,  2.71424871,  0.61226627]],\n",
       "\n",
       "        [[-0.91393944,  0.68494746, -2.36762289],\n",
       "         [-0.6901141 ,  1.43729187, -0.55115159],\n",
       "         [ 1.06093189,  1.24743657, -0.2255638 ]],\n",
       "\n",
       "        [[-1.29519169,  2.07846515, -6.19034897],\n",
       "         [-2.02556611,  6.27649886, -1.07359731],\n",
       "         [-1.25409403,  1.65325989, -0.92455037]]]])"
      ]
     },
     "execution_count": 10,
     "metadata": {},
     "output_type": "execute_result"
    }
   ],
   "source": [
    "x = np.random.randn(3,3,3)\n",
    "y = np.random.randn(3,3,3)\n",
    "np.dot(x,y)"
   ]
  },
  {
   "cell_type": "code",
   "execution_count": null,
   "id": "d228c79f",
   "metadata": {},
   "outputs": [],
   "source": []
  }
 ],
 "metadata": {
  "kernelspec": {
   "display_name": "Python 3 (ipykernel)",
   "language": "python",
   "name": "python3"
  },
  "language_info": {
   "codemirror_mode": {
    "name": "ipython",
    "version": 3
   },
   "file_extension": ".py",
   "mimetype": "text/x-python",
   "name": "python",
   "nbconvert_exporter": "python",
   "pygments_lexer": "ipython3",
   "version": "3.9.17"
  }
 },
 "nbformat": 4,
 "nbformat_minor": 5
}
