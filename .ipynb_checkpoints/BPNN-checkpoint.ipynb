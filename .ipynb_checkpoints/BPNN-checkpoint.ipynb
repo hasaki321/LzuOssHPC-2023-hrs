{
 "cells": [
  {
   "cell_type": "code",
   "execution_count": 1,
   "id": "fa911f89",
   "metadata": {},
   "outputs": [],
   "source": [
    "import numpy as np\n",
    "from sklearn import datasets\n",
    "from sklearn.preprocessing import  OneHotEncoder\n",
    "from sklearn.model_selection import train_test_split\n",
    "np.random.seed(2)"
   ]
  },
  {
   "cell_type": "code",
   "execution_count": 2,
   "id": "30856d39",
   "metadata": {},
   "outputs": [],
   "source": [
    "class Module:\n",
    "    def __init__(self,module_sequence):\n",
    "        self.module_sequence = module_sequence\n",
    "        self.retain_forward_graph = []\n",
    "    \n",
    "    def clear_grad(self):\n",
    "        self.retain_forward_graph = []\n",
    "    \n",
    "    def forward(self):\n",
    "        pass\n",
    "\n",
    "class Linear:\n",
    "    def __init__(self,input_dim,output_dim):\n",
    "        self.input_dim = input_dim\n",
    "        self.output_dim = output_dim\n",
    "        self.weight = np.random.randn(output_dim,input_dim)\n",
    "        self.bias = np.random.randn(output_dim)\n",
    "    \n",
    "    def forward(self,x):\n",
    "        weight_output = np.dot(self.weight,x)\n",
    "        output = weight_output+self.bias\n",
    "        return output\n",
    "    \n",
    "    def backward(self,retain_forward,learning_rate,loss,):\n",
    "        bias_delta = loss\n",
    "        weight_delta = np.dot(np.expand_dims(loss, 1),np.expand_dims(retain_forward, 0))\n",
    "#         print(weight_delta.shape)\n",
    "        self.weight += learning_rate*weight_delta\n",
    "        self.bias += learning_rate*bias_delta\n",
    "        new_loss = np.sum(np.transpose(np.transpose(self.weight)*loss),axis=0)\n",
    "        return new_loss\n",
    "    \n",
    "class Sigmoid:\n",
    "    def __init__(self):\n",
    "        pass\n",
    "    \n",
    "    def forward(self,x):\n",
    "        return 1 / (1 + np.exp(-x))\n",
    "    \n",
    "    def backward(self,retain_forward,*args):\n",
    "        return retain_forward*(1-retain_forward)\n",
    "    \n",
    "    \n",
    "class ReLU:\n",
    "    def __init__(self):\n",
    "        self.selected = None\n",
    "    \n",
    "    def forward(self,x):\n",
    "        self.selected = None\n",
    "        self.selected = np.where(x>0,True,False)\n",
    "        return np.where(x>0,x,0)\n",
    "    \n",
    "    def backward(self,retain_forward,*args):\n",
    "        return np.where(self.selected,retain_forward,0)"
   ]
  },
  {
   "cell_type": "code",
   "execution_count": 3,
   "id": "367161d5",
   "metadata": {},
   "outputs": [],
   "source": [
    "class BPNN(Module):\n",
    "    def __init__(self,module_sequence):\n",
    "        super().__init__(module_sequence)\n",
    "        \n",
    "    def forward(self,x):\n",
    "        for module in module_sequence:\n",
    "            self.retain_forward_graph.append(x)\n",
    "            x = module.forward(x)\n",
    "        return x\n",
    "    \n",
    "    def __call__(self,x):\n",
    "        return self.forward(x)"
   ]
  },
  {
   "cell_type": "code",
   "execution_count": 4,
   "id": "88039d66",
   "metadata": {},
   "outputs": [],
   "source": [
    "class SGD:\n",
    "    def __init__(self,model,learning_rate,loss_fn):\n",
    "        self.learning_rate = learning_rate\n",
    "        self.loss_fn = loss_fn\n",
    "        self.model = model\n",
    "        \n",
    "    def step(self):\n",
    "        loss = self.loss_fn.gradient\n",
    "        for idx,module in enumerate(reversed(self.model.module_sequence),start=1):\n",
    "            retain_output = self.model.retain_forward_graph[len(model.retain_forward_graph)-idx]\n",
    "            loss = module.backward(retain_output,self.learning_rate,loss) \n",
    "    \n",
    "    def clear_grad(self):\n",
    "        self.model.clear_grad()"
   ]
  },
  {
   "cell_type": "code",
   "execution_count": 5,
   "id": "3fb365a9",
   "metadata": {},
   "outputs": [],
   "source": [
    "class MSELoss:\n",
    "    def __init__(self,reduction=\"mean\"):\n",
    "        self.reduction = reduction\n",
    "        self.gradient = None\n",
    "    \n",
    "    def __call__(self,x,target):\n",
    "        self.gradient = -x + target\n",
    "        if self.reduction==\"mean\":\n",
    "            return 0.5 * np.mean((target - x) ** 2)\n",
    "        elif self.reduction==\"sum\":\n",
    "            return 0.5 * np.sum((target - x) ** 2)\n",
    "\n",
    "class BCELoss:\n",
    "    def __init__(self,reduction=None):\n",
    "        self.reduction = reduction\n",
    "        self.gradient = None\n",
    "    \n",
    "    def __call__(self,x,target):\n",
    "        output = self.softmax(x)\n",
    "        self.gradient = -output + target\n",
    "        if self.reduction==None:\n",
    "            return self.cross_entropy(output,target)\n",
    "    \n",
    "    def softmax(self,x):\n",
    "        return np.exp(x) / np.sum(np.exp(x))\n",
    "    \n",
    "    def cross_entropy(self,y,target):\n",
    "        return -np.sum(target * np.log(y))"
   ]
  },
  {
   "cell_type": "code",
   "execution_count": 6,
   "id": "1f96ec53",
   "metadata": {},
   "outputs": [],
   "source": [
    "data = datasets.load_iris()\n",
    "X = data.data\n",
    "onehot = OneHotEncoder()\n",
    "y = data.target\n",
    "y = np.expand_dims(y,1)\n",
    "onehot.fit([[0],[1],[2]])\n",
    "y = onehot.transform(y).toarray()\n",
    "\n",
    "X_train, X_test, y_train, y_test = train_test_split(X,y,random_state=0)"
   ]
  },
  {
   "cell_type": "code",
   "execution_count": 7,
   "id": "4d3ed687",
   "metadata": {},
   "outputs": [],
   "source": [
    "module_sequence = [\n",
    "    Linear(4,16),\n",
    "    Linear(16,3),\n",
    "]\n",
    "lr = 0.005\n",
    "epochs = 10"
   ]
  },
  {
   "cell_type": "code",
   "execution_count": 8,
   "id": "ae7ca961",
   "metadata": {},
   "outputs": [],
   "source": [
    "model = BPNN(module_sequence)\n",
    "loss_fn = BCELoss()\n",
    "optim = SGD(model,lr,loss_fn)"
   ]
  },
  {
   "cell_type": "code",
   "execution_count": 9,
   "id": "ddff9a4f",
   "metadata": {},
   "outputs": [
    {
     "name": "stdout",
     "output_type": "stream",
     "text": [
      "0.375\n",
      "0.6517857142857143\n",
      "0.6607142857142857\n",
      "0.6607142857142857\n",
      "0.6964285714285714\n",
      "0.7142857142857143\n",
      "0.75\n",
      "0.7142857142857143\n",
      "0.8035714285714286\n",
      "0.8482142857142857\n"
     ]
    }
   ],
   "source": [
    "for epoch in range(epochs):\n",
    "    acc = 0\n",
    "    for i in range(len(X_train)):\n",
    "        data = X_train[i]\n",
    "        target = y_train[i]\n",
    "        output = model(data)\n",
    "        if np.argmax(loss_fn.softmax(output))==np.argmax(target): acc+=1\n",
    "        loss = loss_fn(output,target)\n",
    "#         print(loss)\n",
    "        optim.step()\n",
    "        optim.clear_grad()\n",
    "    print(acc/len(X_train))"
   ]
  },
  {
   "cell_type": "code",
   "execution_count": 10,
   "id": "939e2a71",
   "metadata": {},
   "outputs": [
    {
     "name": "stdout",
     "output_type": "stream",
     "text": [
      "0.868421052631579\n"
     ]
    }
   ],
   "source": [
    "acc = 0\n",
    "for i in range(len(X_test)):\n",
    "    data = X_test[i]\n",
    "    target = y_test[i]\n",
    "    output = model(data)\n",
    "    if np.argmax(loss_fn.softmax(output))==np.argmax(target): acc+=1\n",
    "    optim.clear_grad()\n",
    "print(acc/len(X_test))"
   ]
  }
 ],
 "metadata": {
  "kernelspec": {
   "display_name": "Python 3 (ipykernel)",
   "language": "python",
   "name": "python3"
  },
  "language_info": {
   "codemirror_mode": {
    "name": "ipython",
    "version": 3
   },
   "file_extension": ".py",
   "mimetype": "text/x-python",
   "name": "python",
   "nbconvert_exporter": "python",
   "pygments_lexer": "ipython3",
   "version": "3.9.17"
  }
 },
 "nbformat": 4,
 "nbformat_minor": 5
}
